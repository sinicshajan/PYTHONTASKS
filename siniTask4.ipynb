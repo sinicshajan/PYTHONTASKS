{
  "nbformat": 4,
  "nbformat_minor": 0,
  "metadata": {
    "colab": {
      "provenance": [],
      "authorship_tag": "ABX9TyNcTAlPTUFJLU9h0gt3qtlg",
      "include_colab_link": true
    },
    "kernelspec": {
      "name": "python3",
      "display_name": "Python 3"
    },
    "language_info": {
      "name": "python"
    }
  },
  "cells": [
    {
      "cell_type": "markdown",
      "metadata": {
        "id": "view-in-github",
        "colab_type": "text"
      },
      "source": [
        "<a href=\"https://colab.research.google.com/github/sinicshajan/PYTHONTASKS/blob/main/siniTask4.ipynb\" target=\"_parent\"><img src=\"https://colab.research.google.com/assets/colab-badge.svg\" alt=\"Open In Colab\"/></a>"
      ]
    },
    {
      "cell_type": "markdown",
      "source": [
        "Write a Python program to check that a string contains only a certain set of characters (in this case a-z, A-Z and 0-9)."
      ],
      "metadata": {
        "id": "kU9llsjlk_Hl"
      }
    },
    {
      "cell_type": "code",
      "source": [
        "import re\n",
        "string=input(\"Enter a string:\")\n",
        "pattern=re.compile(r'^[a-zA-Z0-9]+$')\n",
        "\n",
        "# define a function for matching the pattern with the string\n",
        "def match_pattern(s):\n",
        "  if pattern.match(s):\n",
        "     print(\"Given string contains only a-z, A-Z and 0-9 characters\")\n",
        "  else:\n",
        "     print(\"Given string contains characters other than a-z, A-Z and 0-9\")\n",
        "\n",
        "#call the function\n",
        "match_pattern(string)"
      ],
      "metadata": {
        "colab": {
          "base_uri": "https://localhost:8080/"
        },
        "id": "GMnahZb0lGTn",
        "outputId": "d399f927-ce90-4203-a903-413ab4f6ba5b"
      },
      "execution_count": null,
      "outputs": [
        {
          "output_type": "stream",
          "name": "stdout",
          "text": [
            "Enter a string:887t\n",
            "Given string contains only a-z, A-Z and 0-9 characters\n"
          ]
        }
      ]
    },
    {
      "cell_type": "markdown",
      "source": [
        "Write a Python program that matches a string that has an 'a' followed by zero or more 'b's."
      ],
      "metadata": {
        "id": "gP3Nd71SlVfs"
      }
    },
    {
      "cell_type": "code",
      "source": [
        "import re\n",
        "string=[\"abbb\",\"acbfjk\",\"ab\",\"fbbbb\"]\n",
        "print(\"String:\",string)\n",
        "pattern=re.compile(r'ab*$')\n",
        "\n",
        "#define a function for matching the pattern with the string\n",
        "def match_pattern(string):\n",
        "  for s in string:\n",
        "       if pattern.match(s):\n",
        "           print(f\"The string '{s}' has an 'a' followed by zero or more b's\")\n",
        "       else:\n",
        "           print(f\"The string '{s}' does not match the pattern\")\n",
        "\n",
        "#call the function\n",
        "match_pattern(string)"
      ],
      "metadata": {
        "colab": {
          "base_uri": "https://localhost:8080/"
        },
        "id": "3JdZLk8SlZ-7",
        "outputId": "77eb4181-875b-4409-9e1e-219ccb3cdf2c"
      },
      "execution_count": null,
      "outputs": [
        {
          "output_type": "stream",
          "name": "stdout",
          "text": [
            "String: ['abbb', 'acbfjk', 'ab', 'fbbbb']\n",
            "The string 'abbb' has an 'a' followed by zero or more b's\n",
            "The string 'acbfjk' does not match the pattern\n",
            "The string 'ab' has an 'a' followed by zero or more b's\n",
            "The string 'fbbbb' does not match the pattern\n"
          ]
        }
      ]
    },
    {
      "cell_type": "markdown",
      "source": [
        "Replace only the first occurrence of 5 with five for the given string"
      ],
      "metadata": {
        "id": "dRZ1_CL2lqSw"
      }
    },
    {
      "cell_type": "code",
      "source": [
        "import re\n",
        "\n",
        "ip= 'They ate 5 apples and 5 oranges'\n",
        "op = re.sub(r'5', 'five', ip, count=1)\n",
        "\n",
        "print(op)"
      ],
      "metadata": {
        "colab": {
          "base_uri": "https://localhost:8080/"
        },
        "id": "d0qac_NElvfD",
        "outputId": "cd7947c1-61b9-49b5-c848-c00eabeed2ad"
      },
      "execution_count": null,
      "outputs": [
        {
          "output_type": "stream",
          "name": "stdout",
          "text": [
            "They ate five apples and 5 oranges\n"
          ]
        }
      ]
    },
    {
      "cell_type": "markdown",
      "source": [
        "Write a Python program that matches a string that has an a followed by three 'b'."
      ],
      "metadata": {
        "id": "MhlWin-Zl2f2"
      }
    },
    {
      "cell_type": "code",
      "source": [
        "import re\n",
        "string=[\"ab\",\"acbbb\",\"abbb\"]\n",
        "pattern=re.compile(r'ab{3}')\n",
        "for s in string:\n",
        "    if re.fullmatch(pattern,s):\n",
        "        print(f\"String '{s}' as an 'a' followed by three 'b'\")\n",
        "    else:\n",
        "        print(f\"String '{s}': Not matches\")"
      ],
      "metadata": {
        "colab": {
          "base_uri": "https://localhost:8080/"
        },
        "id": "bwwKjEYUl-5a",
        "outputId": "09308fec-f0bb-4292-b8f6-fe0c1cdacdfb"
      },
      "execution_count": null,
      "outputs": [
        {
          "output_type": "stream",
          "name": "stdout",
          "text": [
            "String 'ab': Not matches\n",
            "String 'acbbb': Not matches\n",
            "String 'abbb' as an 'a' followed by three 'b'\n"
          ]
        }
      ]
    },
    {
      "cell_type": "markdown",
      "source": [
        "Write a Python program that matches a string that has an 'a' followed by anything ending in 'b'."
      ],
      "metadata": {
        "id": "CIiuYUmbmTvs"
      }
    },
    {
      "cell_type": "code",
      "source": [
        "import re\n",
        "string=['apple.b','ant_b','abcd','banana','a25_-b']\n",
        "pattern=re.compile(r'a[\\w\\.-]*b$')\n",
        "for s in string:\n",
        "    if pattern.match(s):\n",
        "        print(f\"String '{s}' as an 'a' followed by something ending in 'b'\")\n",
        "    else:\n",
        "        print(f\"String '{s}' Doesn't match\")"
      ],
      "metadata": {
        "colab": {
          "base_uri": "https://localhost:8080/"
        },
        "id": "t9YLYC-mmbnq",
        "outputId": "39ae04a6-c00d-4ac4-a747-24a794ee4141"
      },
      "execution_count": null,
      "outputs": [
        {
          "output_type": "stream",
          "name": "stdout",
          "text": [
            "String 'apple.b' as an 'a' followed by something ending in 'b'\n",
            "String 'ant_b' as an 'a' followed by something ending in 'b'\n",
            "String 'abcd' Doesn't match\n",
            "String 'banana' Doesn't match\n",
            "String 'a25_-b' as an 'a' followed by something ending in 'b'\n"
          ]
        }
      ]
    },
    {
      "cell_type": "markdown",
      "source": [
        "Write a Python program to search for numbers (0-9) of length between 1 and 3 in a given string."
      ],
      "metadata": {
        "id": "Rd2gebenmnpj"
      }
    },
    {
      "cell_type": "code",
      "source": [
        "import re\n",
        "txt=\"Exercises number 1, 12, 13, 54587 and 345 are important\"\n",
        "output=re.findall(r'\\b\\d{1,3}\\b',txt)\n",
        "print(output)"
      ],
      "metadata": {
        "colab": {
          "base_uri": "https://localhost:8080/"
        },
        "id": "aTk93--VmopT",
        "outputId": "a8f81fff-1b2f-4e1a-c568-1c4aca6ee8d5"
      },
      "execution_count": null,
      "outputs": [
        {
          "output_type": "stream",
          "name": "stdout",
          "text": [
            "['1', '12', '13', '345']\n"
          ]
        }
      ]
    },
    {
      "cell_type": "markdown",
      "source": [
        "Write a Python program to search for literal strings within a string.\n",
        "Sample text : 'The quick brown fox jumps over the lazy dog.'\n",
        "Searched words : 'fox', 'dog', 'horse'"
      ],
      "metadata": {
        "id": "BNqCyZQTm1I3"
      }
    },
    {
      "cell_type": "code",
      "source": [
        "import re\n",
        "sample_text = 'The quick brown fox jumps over the lazy dog.'\n",
        "searched_words = ['fox', 'dog', 'horse']\n",
        "\n",
        "def search_strings_regex(main_string, searched_words):\n",
        "    found_words = []\n",
        "\n",
        "    for word in searched_words:\n",
        "        pattern = re.compile(r'\\b' + re.escape(word) + r'\\b')\n",
        "        if re.search(pattern, main_string):\n",
        "            found_words.append(word)\n",
        "\n",
        "    return found_words\n",
        "\n",
        "\n",
        "result = search_strings_regex(sample_text, searched_words)\n",
        "\n",
        "print(f\"Sample text: '{sample_text}'\")\n",
        "print(f\"Searched words: {searched_words}\")\n",
        "print(f\"Found words: {result}\")\n"
      ],
      "metadata": {
        "colab": {
          "base_uri": "https://localhost:8080/"
        },
        "id": "1IGG9wqLm2i4",
        "outputId": "9dac442c-5c22-404e-e104-911b4683aa42"
      },
      "execution_count": null,
      "outputs": [
        {
          "output_type": "stream",
          "name": "stdout",
          "text": [
            "Sample text: 'The quick brown fox jumps over the lazy dog.'\n",
            "Searched words: ['fox', 'dog', 'horse']\n",
            "Found words: ['fox', 'dog']\n"
          ]
        }
      ]
    },
    {
      "cell_type": "markdown",
      "source": [
        "Write a Python program to search for a literal string in a string and also find the location within the original string where the pattern occurs.\n",
        "Sample text : 'The quick brown fox jumps over the lazy dog.'\n",
        "Searched words : 'fox'"
      ],
      "metadata": {
        "id": "L1U4m49XnCJd"
      }
    },
    {
      "cell_type": "code",
      "source": [
        "import re\n",
        "\n",
        "def string_location(main_string, searched_word):\n",
        "    pattern = re.compile(re.escape(searched_word))\n",
        "    matches = pattern.finditer(main_string)\n",
        "\n",
        "    locations = [match.start() for match in matches]\n",
        "\n",
        "    return locations\n",
        "\n",
        "sample_text = 'The quick brown fox jumps over the lazy dog.'\n",
        "searched_word = 'fox'\n",
        "\n",
        "result_locations = string_location(sample_text, searched_word)\n",
        "\n",
        "print(f\"Sample text: '{sample_text}'\")\n",
        "print(f\"Searched word: '{searched_word}'\")\n",
        "if result_locations:\n",
        "    print(f\"Found at positions: {result_locations}\")\n",
        "else:\n",
        "    print(\"Word not found in the sample text.\")"
      ],
      "metadata": {
        "colab": {
          "base_uri": "https://localhost:8080/"
        },
        "id": "FyvYUtFenOii",
        "outputId": "b4ca6df3-ac4d-4d65-99c9-32bb9c2ee37c"
      },
      "execution_count": null,
      "outputs": [
        {
          "output_type": "stream",
          "name": "stdout",
          "text": [
            "Sample text: 'The quick brown fox jumps over the lazy dog.'\n",
            "Searched word: 'fox'\n",
            "Found at positions: [16]\n"
          ]
        }
      ]
    },
    {
      "cell_type": "markdown",
      "source": [
        "Write a Python program to extract year, month and date from an URL"
      ],
      "metadata": {
        "id": "fQwiIASEngJr"
      }
    },
    {
      "cell_type": "code",
      "source": [
        "import re\n",
        "url1= \"https://www.washingtonpost.com/news/football-insider/wp/2016/09/02/odell-beckhams-fame-rests-on-one-stupid-little-ball-josh-norman\"\n",
        "p=re.compile('(\\d{4})/(\\d{2})/(\\d{2})/')\n",
        "date=p.findall(url1)\n",
        "print(\"Date:\",date)\n",
        "\n",
        "if date:\n",
        "   extracted_date= date[0]\n",
        "else:\n",
        "     None\n",
        "\n",
        "if extracted_date:\n",
        "    year, month, day = extracted_date\n",
        "    print(f\"Year: {year}\")\n",
        "    print(f\"Month: {month}\")\n",
        "    print(f\"Day: {day}\")\n",
        "else:\n",
        "    print(\"No valid date pattern found in the URL.\")"
      ],
      "metadata": {
        "colab": {
          "base_uri": "https://localhost:8080/"
        },
        "id": "IOMmgzZdnhTC",
        "outputId": "5a5dbbd7-cb03-4969-e7a5-6127cf07ed89"
      },
      "execution_count": null,
      "outputs": [
        {
          "output_type": "stream",
          "name": "stdout",
          "text": [
            "Date: [('2016', '09', '02')]\n",
            "Year: 2016\n",
            "Month: 09\n",
            "Day: 02\n"
          ]
        }
      ]
    },
    {
      "cell_type": "markdown",
      "source": [
        "Write a Python program to find URLs in a string."
      ],
      "metadata": {
        "id": "HqlUI_GUnqG4"
      }
    },
    {
      "cell_type": "code",
      "source": [
        "text = '<p>Contents :</p><a href=\"https://w3resource.com\">Python Examples</a><a href=\"http://github.com\">Even More Examples</a>'\n",
        "\n",
        "print(re.findall(r'[ht]\\w*://\\w+.\\w+',text))"
      ],
      "metadata": {
        "colab": {
          "base_uri": "https://localhost:8080/"
        },
        "id": "O6nYc9N8nxGc",
        "outputId": "262c4d68-2ce9-427e-9172-4c699e185fa3"
      },
      "execution_count": null,
      "outputs": [
        {
          "output_type": "stream",
          "name": "stdout",
          "text": [
            "['https://w3resource.com', 'http://github.com']\n"
          ]
        }
      ]
    },
    {
      "cell_type": "markdown",
      "source": [
        "Write a Python program to remove the parenthesis area in a string.\\\n",
        "Sample data : [\"example (.com)\", \"w3resource\", \"github (.com)\", \"stackoverflow (.com)\"]\n",
        "Expected Output:\n",
        "example\n",
        "w3resource\n",
        "github\n",
        "stackoverflow."
      ],
      "metadata": {
        "id": "jArfmta0n4Tq"
      }
    },
    {
      "cell_type": "code",
      "source": [
        "import re\n",
        "data=[\"example(.com)\", \"w3resource\", \"github(.com)\", \"stackoverflow(.com)\"]\n",
        "for pattern in data:\n",
        "  result=re.sub(r'\\(\\.\\w+\\)','',pattern)\n",
        "  print(result)"
      ],
      "metadata": {
        "colab": {
          "base_uri": "https://localhost:8080/"
        },
        "id": "R3NjeD3yn_AS",
        "outputId": "fb501a57-47f8-4a3a-d815-20cc84349c8f"
      },
      "execution_count": null,
      "outputs": [
        {
          "output_type": "stream",
          "name": "stdout",
          "text": [
            "example\n",
            "w3resource\n",
            "github\n",
            "stackoverflow\n"
          ]
        }
      ]
    },
    {
      "cell_type": "markdown",
      "source": [
        "Write a Python program to concatenate the consecutive numbers in a given string.\n",
        "Original string:\n",
        "Enter at 1 20 Kearny Street. The security desk can direct you to floor 1 6. Please have your identification ready.\n",
        "\n",
        "After concatenating the consecutive numbers in the said string:\n",
        "Enter at 120 Kearny Street. The security desk can direct you to floor 16. Please have your identification ready."
      ],
      "metadata": {
        "id": "9QDbsQVgoJef"
      }
    },
    {
      "cell_type": "code",
      "source": [
        "import re\n",
        "original_string = \"Enter at 1 20 Kearny Street. The security desk can direct you to floor 1 6. Please have your identification ready.\"\n",
        "pattern=re.compile(r'(?<=\\d)( )(?=\\d)')\n",
        "output=pattern.sub('',original_string)\n",
        "print(\"Original string:\")\n",
        "print(original_string)\n",
        "print(\"\\nAfter concatenating the consecutive numbers:\")\n",
        "print(output)\n"
      ],
      "metadata": {
        "colab": {
          "base_uri": "https://localhost:8080/"
        },
        "id": "xvnA-MHvoLva",
        "outputId": "daed0998-6500-44e0-a055-6e969b48cca7"
      },
      "execution_count": null,
      "outputs": [
        {
          "output_type": "stream",
          "name": "stdout",
          "text": [
            "Original string:\n",
            "Enter at 1 20 Kearny Street. The security desk can direct you to floor 1 6. Please have your identification ready.\n",
            "\n",
            "After concatenating the consecutive numbers:\n",
            "Enter at 120 Kearny Street. The security desk can direct you to floor 16. Please have your identification ready.\n"
          ]
        }
      ]
    }
  ]
}