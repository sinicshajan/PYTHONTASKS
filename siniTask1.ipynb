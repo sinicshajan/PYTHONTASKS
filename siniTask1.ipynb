{
  "nbformat": 4,
  "nbformat_minor": 0,
  "metadata": {
    "colab": {
      "provenance": [],
      "include_colab_link": true
    },
    "kernelspec": {
      "name": "python3",
      "display_name": "Python 3"
    },
    "language_info": {
      "name": "python"
    }
  },
  "cells": [
    {
      "cell_type": "markdown",
      "metadata": {
        "id": "view-in-github",
        "colab_type": "text"
      },
      "source": [
        "<a href=\"https://colab.research.google.com/github/sinicshajan/PYTHONTASKS/blob/main/siniTask1.ipynb\" target=\"_parent\"><img src=\"https://colab.research.google.com/assets/colab-badge.svg\" alt=\"Open In Colab\"/></a>"
      ]
    },
    {
      "cell_type": "markdown",
      "source": [
        "1. Write a Python program to sum all the items in a list.\n"
      ],
      "metadata": {
        "id": "WbWqfjLILpYR"
      }
    },
    {
      "cell_type": "code",
      "execution_count": null,
      "metadata": {
        "id": "IeHCdrS5KBAJ",
        "colab": {
          "base_uri": "https://localhost:8080/"
        },
        "outputId": "9ea86ca5-5fbe-4db2-9806-689496ae7637"
      },
      "outputs": [
        {
          "output_type": "stream",
          "name": "stdout",
          "text": [
            "The given list is:\n",
            "[5, 2, 3, 1, 5]\n",
            "The sum of all elements: 16\n"
          ]
        }
      ],
      "source": [
        "mylist=[5,2,3,1,5]\n",
        "print(\"The given list is:\")\n",
        "print(mylist)\n",
        "sum=0\n",
        "for i in range(len(mylist)):\n",
        "  sum=sum+mylist[i]\n",
        "print(\"The sum of all elements:\",sum)"
      ]
    },
    {
      "cell_type": "markdown",
      "source": [
        "2. Write a Python program to get the largest number from a list.\n"
      ],
      "metadata": {
        "id": "1NgXL_KTLulQ"
      }
    },
    {
      "cell_type": "markdown",
      "source": [
        "using sort method"
      ],
      "metadata": {
        "id": "9wfN9YKzpR6q"
      }
    },
    {
      "cell_type": "code",
      "source": [
        "mylist=[5,2,3,1,20]\n",
        "print(\"The given list is:\",mylist)\n",
        "#print(mylist)\n",
        "mylist.sort()\n",
        "print(\"largest element in list is:\",mylist[-1])"
      ],
      "metadata": {
        "id": "W4A2hjGBLsu0",
        "colab": {
          "base_uri": "https://localhost:8080/"
        },
        "outputId": "cc777898-7d67-4671-9647-0372e82a5cf5"
      },
      "execution_count": null,
      "outputs": [
        {
          "output_type": "stream",
          "name": "stdout",
          "text": [
            "The given list is: [5, 2, 3, 1, 20]\n",
            "largest element in list is: 20\n"
          ]
        }
      ]
    },
    {
      "cell_type": "markdown",
      "source": [
        "usin max method"
      ],
      "metadata": {
        "id": "VbBuo_vEqBUC"
      }
    },
    {
      "cell_type": "code",
      "source": [
        "mylist=[20,85,100]\n",
        "print(\"The largest element in list is:\",max(mylist))"
      ],
      "metadata": {
        "colab": {
          "base_uri": "https://localhost:8080/"
        },
        "id": "YBpQdRodpfWx",
        "outputId": "06bbeb0a-452f-4b25-8ae9-952e6f78300f"
      },
      "execution_count": null,
      "outputs": [
        {
          "output_type": "stream",
          "name": "stdout",
          "text": [
            "The largest element in list is: 100\n"
          ]
        }
      ]
    },
    {
      "cell_type": "markdown",
      "source": [
        "3. Write a Python program to count the number of strings from a given list of strings. The string length is 2 or more and the first and last characters are the same.\n",
        "\n",
        "```\n",
        "Sample List : ['abc', 'xyz', 'aba', '1221']\n",
        "Expected Result : 2\n",
        "```"
      ],
      "metadata": {
        "id": "azKVRKqWLvtp"
      }
    },
    {
      "cell_type": "code",
      "source": [
        "def mywords(words):\n",
        "    sum=0\n",
        "    for i in mywords:\n",
        "        if(len(i)>1) and (i[0]==i[-1]):\n",
        "          sum=sum+1\n",
        "    return sum\n",
        "    print(mywords(['abc','xyz','aba','1221']))"
      ],
      "metadata": {
        "id": "4C9UmcCRL1Bp"
      },
      "execution_count": null,
      "outputs": []
    },
    {
      "cell_type": "markdown",
      "source": [
        "4. Write a Python program to remove duplicates from a list.\n"
      ],
      "metadata": {
        "id": "2ZYOfK4rL20r"
      }
    },
    {
      "cell_type": "code",
      "source": [
        "def duplicates(words):\n",
        " final=[]\n",
        " for i in words:\n",
        "  if i not in final:\n",
        "     final.append(i)\n",
        " return final\n",
        "words=[2,2,3]\n",
        "print(duplicates(words))"
      ],
      "metadata": {
        "id": "A4Et_q6CL3Pb",
        "colab": {
          "base_uri": "https://localhost:8080/"
        },
        "outputId": "420d2bbe-c452-439f-85e0-b8e75012382e"
      },
      "execution_count": null,
      "outputs": [
        {
          "output_type": "stream",
          "name": "stdout",
          "text": [
            "[2, 3]\n"
          ]
        }
      ]
    },
    {
      "cell_type": "markdown",
      "source": [
        "5. Write a Python program to check if a list is empty or not.\n"
      ],
      "metadata": {
        "id": "kjtsEf0tL358"
      }
    },
    {
      "cell_type": "code",
      "source": [
        "my_list = []\n",
        "if my_list == []:\n",
        "    print(\"The list is empty\")\n"
      ],
      "metadata": {
        "id": "e1C-5rk7L5OT",
        "colab": {
          "base_uri": "https://localhost:8080/"
        },
        "outputId": "c2608ff2-99f7-452d-b518-71c239db4997"
      },
      "execution_count": null,
      "outputs": [
        {
          "output_type": "stream",
          "name": "stdout",
          "text": [
            "The list is empty\n"
          ]
        }
      ]
    },
    {
      "cell_type": "markdown",
      "source": [
        "6. Write a Python program to filter the list if the length of the character is < 4\n",
        "\n",
        "```\n",
        "Sample List : ['abc', 'xyz', 'aba', '1221']\n",
        "Expected Result: ['abc', 'xyz', 'aba']\n",
        "```\n"
      ],
      "metadata": {
        "id": "HPq-j6_5L6Bu"
      }
    },
    {
      "cell_type": "code",
      "source": [
        "SampleList= ['abc', 'xyz', 'aba', '1221']\n",
        "days = filter(lambda day: day if len(day)>4 else '',SampleList)\n",
        "for d in days:\n",
        "    print(d)"
      ],
      "metadata": {
        "id": "e0Rk_iusL-Du"
      },
      "execution_count": null,
      "outputs": []
    },
    {
      "cell_type": "markdown",
      "source": [
        "7.Write a Python program to find the second largest number in a list.\n"
      ],
      "metadata": {
        "id": "0Vo0Eo4GL_2N"
      }
    },
    {
      "cell_type": "code",
      "source": [
        "list1 = [10, 20, 20, 4, 45, 45, 45, 99, 99]\n",
        "list2 = list(set(list1))\n",
        "list2.sort()\n",
        "print(\"Second largest element is:\", list2[-2])"
      ],
      "metadata": {
        "id": "uIB8bq0IMAYB",
        "colab": {
          "base_uri": "https://localhost:8080/"
        },
        "outputId": "fbf9160b-c7b7-4dd4-d21d-9c0e048754c9"
      },
      "execution_count": null,
      "outputs": [
        {
          "output_type": "stream",
          "name": "stdout",
          "text": [
            "Second largest element is: 45\n"
          ]
        }
      ]
    },
    {
      "cell_type": "markdown",
      "source": [
        "8. Write a Python program to reverse a list at a specific location.\n"
      ],
      "metadata": {
        "id": "aManSXvqMBoz"
      }
    },
    {
      "cell_type": "code",
      "source": [
        "def reverse_list(lst):\n",
        "    return lst[::-1]\n",
        "my_list = [1, 2, 3, 4, 5]\n",
        "reversed_list = reverse_list(my_list)\n",
        "print(reversed_list)"
      ],
      "metadata": {
        "id": "6-xOhDjGMCO4",
        "colab": {
          "base_uri": "https://localhost:8080/"
        },
        "outputId": "c81473bb-da91-4704-bf37-7c2733dab739"
      },
      "execution_count": null,
      "outputs": [
        {
          "output_type": "stream",
          "name": "stdout",
          "text": [
            "[5, 4, 3, 2, 1]\n"
          ]
        }
      ]
    },
    {
      "cell_type": "markdown",
      "source": [
        "9. Write a Python program to check if a list is a palindrome or not. Return true otherwise false.\n"
      ],
      "metadata": {
        "id": "-mIvdmfVMCyV"
      }
    },
    {
      "cell_type": "code",
      "source": [
        "test_list = [1, 4, 5, 4, 1]\n",
        "print(\"The original list is : \" + str(test_list))\n",
        "reverse = test_list[::-1]\n",
        "res = test_list == reverse\n",
        "print(\"Is list Palindrome : \" + str(res))"
      ],
      "metadata": {
        "id": "128bnAjHMD_6",
        "colab": {
          "base_uri": "https://localhost:8080/"
        },
        "outputId": "b9994651-238f-45c1-dcb1-bddc6de7e2cf"
      },
      "execution_count": null,
      "outputs": [
        {
          "output_type": "stream",
          "name": "stdout",
          "text": [
            "The original list is : [1, 4, 5, 4, 1]\n",
            "Is list Palindrome : True\n"
          ]
        }
      ]
    },
    {
      "cell_type": "markdown",
      "source": [
        "10. Write a Python a program to find the union and intersection of two lists.\n"
      ],
      "metadata": {
        "id": "r_OaahEUMFk9"
      }
    },
    {
      "cell_type": "code",
      "source": [
        "A = {0, 2, 4, 6, 8};\n",
        "B = {1, 2, 3, 4, 5};\n",
        "\n",
        "# union\n",
        "print(\"Union :\", A | B)\n",
        "\n",
        "# intersection\n",
        "print(\"Intersection :\", A & B)\n"
      ],
      "metadata": {
        "colab": {
          "base_uri": "https://localhost:8080/"
        },
        "id": "g5Rw-SMQMF7d",
        "outputId": "c60b0e24-7d11-4fbf-8af8-248577462fcf"
      },
      "execution_count": null,
      "outputs": [
        {
          "output_type": "stream",
          "name": "stdout",
          "text": [
            "Union : {0, 1, 2, 3, 4, 5, 6, 8}\n",
            "Intersection : {2, 4}\n"
          ]
        }
      ]
    },
    {
      "cell_type": "markdown",
      "source": [
        "11.Write a Python script to sort (ascending and descending) a dictionary by value\n"
      ],
      "metadata": {
        "id": "O_KaZq9mMHMo"
      }
    },
    {
      "cell_type": "code",
      "source": [
        "# Import the 'operator' module, which provides functions for common operations like sorting.\n",
        "import operator\n",
        "d = {1: 2, 3: 4, 4: 3, 2: 1, 0: 0}\n",
        "print('Original dictionary : ',d)\n",
        "sorted_d = sorted(d.items(), key=operator.itemgetter(1))\n",
        "print('Dictionary in ascending order by value : ',sorted_d)\n",
        "sorted_d = dict( sorted(d.items(), key=operator.itemgetter(1), reverse=True))\n",
        "print('Dictionary in descending order by value : ',sorted_d)\n"
      ],
      "metadata": {
        "id": "iMEgBD_5MHe5",
        "colab": {
          "base_uri": "https://localhost:8080/"
        },
        "outputId": "d3bd2033-166e-4145-9a98-f1df8cc48a8b"
      },
      "execution_count": null,
      "outputs": [
        {
          "output_type": "stream",
          "name": "stdout",
          "text": [
            "Original dictionary :  {1: 2, 3: 4, 4: 3, 2: 1, 0: 0}\n",
            "Dictionary in ascending order by value :  [(0, 0), (2, 1), (1, 2), (4, 3), (3, 4)]\n",
            "Dictionary in descending order by value :  {3: 4, 4: 3, 1: 2, 2: 1, 0: 0}\n"
          ]
        }
      ]
    },
    {
      "cell_type": "code",
      "source": [],
      "metadata": {
        "id": "e_3xZg48rn2F"
      },
      "execution_count": null,
      "outputs": []
    },
    {
      "cell_type": "markdown",
      "source": [
        "12. Write a Python script to check whether a given key already exists in a dictionary.\n"
      ],
      "metadata": {
        "id": "LRtPwyETMJFB"
      }
    },
    {
      "cell_type": "code",
      "source": [
        "\n",
        "d = {1: 10, 2: 20, 3: 30, 4: 40, 5: 50, 6: 60}\n",
        "def is_key_present(x):\n",
        "    if x in d:\n",
        "        print('Key is present in the dictionary')\n",
        "    else:\n",
        "        print('Key is not present in the dictionary')\n",
        "is_key_present(5)\n",
        "is_key_present(9)"
      ],
      "metadata": {
        "id": "CzQHm4IWMJX5",
        "colab": {
          "base_uri": "https://localhost:8080/"
        },
        "outputId": "4ccd197d-d917-464f-b05e-915f40d088ba"
      },
      "execution_count": null,
      "outputs": [
        {
          "output_type": "stream",
          "name": "stdout",
          "text": [
            "Key is present in the dictionary\n",
            "Key is not present in the dictionary\n"
          ]
        }
      ]
    },
    {
      "cell_type": "markdown",
      "source": [
        "13.Write a Python program to sum all the values in a dictionary.\n"
      ],
      "metadata": {
        "id": "ndM9xtBpMK7b"
      }
    },
    {
      "cell_type": "code",
      "source": [
        "def returnSum(myDict):\n",
        "\n",
        "    list = []\n",
        "    for i in myDict:\n",
        "        list.append(myDict[i])\n",
        "    final = sum(list)\n",
        "\n",
        "    return final\n",
        "dict = {'a': 100, 'b': 200, 'c': 300}\n",
        "print(\"Sum :\", returnSum(dict))"
      ],
      "metadata": {
        "id": "-UBNCNxbMLNa",
        "colab": {
          "base_uri": "https://localhost:8080/"
        },
        "outputId": "84213a42-87c7-47ac-f631-9182b78b6f4d"
      },
      "execution_count": null,
      "outputs": [
        {
          "output_type": "stream",
          "name": "stdout",
          "text": [
            "Sum : 600\n"
          ]
        }
      ]
    },
    {
      "cell_type": "markdown",
      "source": [
        "14.Write a Python program to create a dictionary with a number and its corresponding square from 1 to input number. And also check if the input number is less than 10\n",
        "\n",
        "```\n",
        "Eg:\n",
        "Input : 3\n",
        "Output : {1:1, 2:4, 3:9}\n",
        "```"
      ],
      "metadata": {
        "id": "0qVfQATqMNdJ"
      }
    },
    {
      "cell_type": "code",
      "source": [],
      "metadata": {
        "id": "XCkHf-OvMPVf"
      },
      "execution_count": null,
      "outputs": []
    },
    {
      "cell_type": "markdown",
      "source": [
        "15.Write a Python program to sort a given dictionary by key.\n"
      ],
      "metadata": {
        "id": "5Ku1ZCBMMRGO"
      }
    },
    {
      "cell_type": "code",
      "source": [
        "color_dict ={'a':3,'f':8,'b':9}\n",
        "\n",
        "\n",
        "for key in sorted(color_dict):\n",
        "\n",
        "    print(\"%s: %s\" % (key, color_dict[key]))"
      ],
      "metadata": {
        "id": "Uo1ha3q4MRaG",
        "colab": {
          "base_uri": "https://localhost:8080/"
        },
        "outputId": "80cc4736-2358-425e-8129-0b93b2caa7f4"
      },
      "execution_count": null,
      "outputs": [
        {
          "output_type": "stream",
          "name": "stdout",
          "text": [
            "a: 3\n",
            "b: 9\n",
            "f: 8\n"
          ]
        }
      ]
    },
    {
      "cell_type": "markdown",
      "source": [
        "16.  Write a Python program to create a dictionary from a string.\n",
        "\n",
        "```\n",
        "Note: Track the count of the letters from the string.\n",
        "Sample string : 'learnpython'\n",
        "Expected output: {'l': 1, 'e': 1, 'a': 1, 'r': 1, 'n': 2, 'p': 1, 'y': 1, 't': 1, 'h': 1, 'o': 1}\n",
        "\n",
        "```"
      ],
      "metadata": {
        "id": "VFB6DT7uMTCo"
      }
    },
    {
      "cell_type": "code",
      "source": [
        "myStr=\"learnpython\"\n",
        "print(\"The input string is:\",myStr)\n",
        "myDict={}\n",
        "for character in myStr:\n",
        "    if character in myDict:\n",
        "        myDict[character]+=1\n",
        "    else:\n",
        "        myDict[character]=1\n",
        "print(\"The dictionary created from characters of the string is:\")\n",
        "print(myDict)"
      ],
      "metadata": {
        "id": "Pst-k-SZMTUo",
        "colab": {
          "base_uri": "https://localhost:8080/"
        },
        "outputId": "a11b9418-9d0b-415c-de6a-6afda51c0511"
      },
      "execution_count": null,
      "outputs": [
        {
          "output_type": "stream",
          "name": "stdout",
          "text": [
            "The input string is: learnpython\n",
            "The dictionary created from characters of the string is:\n",
            "{'l': 1, 'e': 1, 'a': 1, 'r': 1, 'n': 2, 'p': 1, 'y': 1, 't': 1, 'h': 1, 'o': 1}\n"
          ]
        }
      ]
    },
    {
      "cell_type": "markdown",
      "source": [
        "17. Write a Python program to get the top three items in a shop.\n",
        "\n",
        "```\n",
        "Sample data: {'item1': 45.50, 'item2':35, 'item3': 41.30, 'item4':55, 'item5': 24}\n",
        "\n",
        "Expected Output:\n",
        "item4 55\n",
        "item1 45.5\n",
        "item3 41.3\n",
        "```\n"
      ],
      "metadata": {
        "id": "OnYknUtWMYSr"
      }
    },
    {
      "cell_type": "code",
      "source": [
        "my_dict ={'item1': 45.50, 'item2':35, 'item3': 41.30, 'item4':55, 'item5': 24}\n",
        "\n",
        "print(\"Initial Dictionary:\")\n",
        "print(my_dict, \"\\n\")\n",
        "\n",
        "print(\"Dictionary with 3 highest values:\")\n",
        "print(\"Keys: Values\")\n",
        "\n",
        "x=list(my_dict.values())\n",
        "d={}\n",
        "x.sort(reverse=True)\n",
        "x=x[:3]\n",
        "for i in x:\n",
        "    for j in my_dict.keys():\n",
        "        if(my_dict[j]==i):\n",
        "            print(str(j)+\" : \"+str(my_dict[j]))"
      ],
      "metadata": {
        "colab": {
          "base_uri": "https://localhost:8080/"
        },
        "id": "2q8ev-kbMas2",
        "outputId": "b17b2674-f8df-4fc0-ec62-a168149ef9dc"
      },
      "execution_count": null,
      "outputs": [
        {
          "output_type": "stream",
          "name": "stdout",
          "text": [
            "Initial Dictionary:\n",
            "{'item1': 45.5, 'item2': 35, 'item3': 41.3, 'item4': 55, 'item5': 24} \n",
            "\n",
            "Dictionary with 3 highest values:\n",
            "Keys: Values\n",
            "item4 : 55\n",
            "item1 : 45.5\n",
            "item3 : 41.3\n"
          ]
        }
      ]
    },
    {
      "cell_type": "code",
      "source": [],
      "metadata": {
        "id": "_6uauKq7sCtm"
      },
      "execution_count": null,
      "outputs": []
    },
    {
      "cell_type": "code",
      "source": [],
      "metadata": {
        "id": "NJhUygp3sskx"
      },
      "execution_count": null,
      "outputs": []
    }
  ]
}