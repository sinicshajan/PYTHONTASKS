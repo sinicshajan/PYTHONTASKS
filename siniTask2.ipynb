{
  "nbformat": 4,
  "nbformat_minor": 0,
  "metadata": {
    "colab": {
      "provenance": [],
      "authorship_tag": "ABX9TyMaRB/PLtM6eSxMrLsuDS68",
      "include_colab_link": true
    },
    "kernelspec": {
      "name": "python3",
      "display_name": "Python 3"
    },
    "language_info": {
      "name": "python"
    }
  },
  "cells": [
    {
      "cell_type": "markdown",
      "metadata": {
        "id": "view-in-github",
        "colab_type": "text"
      },
      "source": [
        "<a href=\"https://colab.research.google.com/github/sinicshajan/PYTHONTASKS/blob/main/siniTask2.ipynb\" target=\"_parent\"><img src=\"https://colab.research.google.com/assets/colab-badge.svg\" alt=\"Open In Colab\"/></a>"
      ]
    },
    {
      "cell_type": "markdown",
      "source": [
        "# New section"
      ],
      "metadata": {
        "id": "J5HQAwJFGOOb"
      }
    },
    {
      "cell_type": "markdown",
      "source": [],
      "metadata": {
        "id": "VmRt5HEB-utJ"
      }
    },
    {
      "cell_type": "markdown",
      "source": [
        "Exercise 1: Create a function with a default argument\n",
        "Write a program to create a function show_employee() using the following conditions.\n",
        "It should accept the employee’s name and salary and display both.\n",
        "If the salary is missing in the function call then assign default value 9000 to salary\n",
        "Given:\n",
        "showEmployee(\"Ben\", 12000)\n",
        "showEmployee(\"Jessa\")\n",
        "Expected output:\n",
        "Name: Ben salary: 12000\n",
        "Name: Jessa salary: 9000\n"
      ],
      "metadata": {
        "id": "G6e6DwCd-8Ax"
      }
    },
    {
      "cell_type": "code",
      "execution_count": null,
      "metadata": {
        "id": "nW6JW6CZCYcE",
        "colab": {
          "base_uri": "https://localhost:8080/"
        },
        "outputId": "893b2e1c-3ef9-4206-aba0-5529be4500ce"
      },
      "outputs": [
        {
          "output_type": "stream",
          "name": "stdout",
          "text": [
            "Name: Ben salary: 12000\n",
            "Name: Jessa salary: 9000\n"
          ]
        }
      ],
      "source": [
        "def show_employee(name, salary=9000):\n",
        "    print(\"Name:\", name, \"salary:\", salary)\n",
        "\n",
        "show_employee(\"Ben\", 12000)\n",
        "show_employee(\"Jessa\")"
      ]
    },
    {
      "cell_type": "markdown",
      "source": [
        "Create an outer function that will accept two parameters, a and b\n",
        "Create an inner function inside an outer function that will calculate the addition of a and b\n",
        "At last, an outer function will add 5 into addition and return it\n"
      ],
      "metadata": {
        "id": "u71XUWaz_CAl"
      }
    },
    {
      "cell_type": "code",
      "source": [
        "def outer(a, b):\n",
        "    def addition(a, b):\n",
        "        return a + b\n",
        "    add = addition(a, b)\n",
        "    return add + 5\n",
        "result = outer(5, 10)\n",
        "print(result)\n",
        "\n"
      ],
      "metadata": {
        "colab": {
          "base_uri": "https://localhost:8080/"
        },
        "id": "MRSkKqS8_IVo",
        "outputId": "df0853f4-50f8-4c09-a0d7-d6a42d50304e"
      },
      "execution_count": null,
      "outputs": [
        {
          "output_type": "stream",
          "name": "stdout",
          "text": [
            "20\n"
          ]
        }
      ]
    },
    {
      "cell_type": "markdown",
      "source": [
        "Exercise 3: Generate a Python list of all the even numbers between 4 to 30\n"
      ],
      "metadata": {
        "id": "jdJI7718B-ew"
      }
    },
    {
      "cell_type": "code",
      "source": [
        "print(list(range(4, 30, 2)))"
      ],
      "metadata": {
        "colab": {
          "base_uri": "https://localhost:8080/"
        },
        "id": "krQ9IXXvEwpz",
        "outputId": "ec7793d5-4770-46de-d18e-f237ef291c79"
      },
      "execution_count": null,
      "outputs": [
        {
          "output_type": "stream",
          "name": "stdout",
          "text": [
            "[4, 6, 8, 10, 12, 14, 16, 18, 20, 22, 24, 26, 28]\n"
          ]
        }
      ]
    },
    {
      "cell_type": "markdown",
      "source": [
        "Exercise 4: Lambda Function to Check if value is in a List\n"
      ],
      "metadata": {
        "id": "G9bMUhKkIgsX"
      }
    },
    {
      "cell_type": "code",
      "source": [
        "arr=[1,2,3,4]\n",
        "v=4\n",
        "x=lambda arr,v: True if v in arr else False\n",
        "\n",
        "if(x(arr,v)):\n",
        "  print(\"Element is Present in the list\")\n",
        "else:\n",
        "  print(\"Element is Not Present in the list\")\n"
      ],
      "metadata": {
        "colab": {
          "base_uri": "https://localhost:8080/"
        },
        "id": "OBOhCDTGIwAw",
        "outputId": "6033e3eb-55dc-44dc-88c3-db4066fa1ddc"
      },
      "execution_count": null,
      "outputs": [
        {
          "output_type": "stream",
          "name": "stdout",
          "text": [
            "Element is Present in the list\n"
          ]
        }
      ]
    },
    {
      "cell_type": "markdown",
      "source": [
        "Exercise 5: Sort list of tuples with their sum\n"
      ],
      "metadata": {
        "id": "OytC8EFkLhAz"
      }
    },
    {
      "cell_type": "code",
      "source": [
        "points = [(1, 2), (5, 3), (0, 7), (3, 1)]\n",
        "print(\"The original list of tuple is \")\n",
        "print(points)\n",
        "print(\"\\nThe answer is\")\n",
        "print(sorted(points, key = lambda x:x[0] + x[1]))"
      ],
      "metadata": {
        "colab": {
          "base_uri": "https://localhost:8080/"
        },
        "id": "gOCXh1r-LkcR",
        "outputId": "1688478d-d044-4d90-f683-bf8a5207e2f9"
      },
      "execution_count": null,
      "outputs": [
        {
          "output_type": "stream",
          "name": "stdout",
          "text": [
            "The original list of tuple is \n",
            "[(1, 2), (5, 3), (0, 7), (3, 1)]\n",
            "\n",
            "The answer is\n",
            "[(1, 2), (3, 1), (0, 7), (5, 3)]\n"
          ]
        }
      ]
    },
    {
      "cell_type": "markdown",
      "source": [
        "Exercise 6 : Write a python function, which will find all such numbers between 1000 and 3000 (both included) such that each digit of the number is an even number. Return the results as a list"
      ],
      "metadata": {
        "id": "EX7rxz5MU5Ik"
      }
    },
    {
      "cell_type": "code",
      "source": [
        "def even(x,y):\n",
        "   result=[num for num in range(x,y+1) if all(int(digits)%2==0 for digits in str(num))]\n",
        "   return result\n",
        "\n",
        "result=even(1000,3000)\n",
        "print(result)"
      ],
      "metadata": {
        "colab": {
          "base_uri": "https://localhost:8080/"
        },
        "id": "FpwokNjQU8pP",
        "outputId": "9e8aa288-0ad2-443b-fffd-2890b091549a"
      },
      "execution_count": null,
      "outputs": [
        {
          "output_type": "stream",
          "name": "stdout",
          "text": [
            "[2000, 2002, 2004, 2006, 2008, 2020, 2022, 2024, 2026, 2028, 2040, 2042, 2044, 2046, 2048, 2060, 2062, 2064, 2066, 2068, 2080, 2082, 2084, 2086, 2088, 2200, 2202, 2204, 2206, 2208, 2220, 2222, 2224, 2226, 2228, 2240, 2242, 2244, 2246, 2248, 2260, 2262, 2264, 2266, 2268, 2280, 2282, 2284, 2286, 2288, 2400, 2402, 2404, 2406, 2408, 2420, 2422, 2424, 2426, 2428, 2440, 2442, 2444, 2446, 2448, 2460, 2462, 2464, 2466, 2468, 2480, 2482, 2484, 2486, 2488, 2600, 2602, 2604, 2606, 2608, 2620, 2622, 2624, 2626, 2628, 2640, 2642, 2644, 2646, 2648, 2660, 2662, 2664, 2666, 2668, 2680, 2682, 2684, 2686, 2688, 2800, 2802, 2804, 2806, 2808, 2820, 2822, 2824, 2826, 2828, 2840, 2842, 2844, 2846, 2848, 2860, 2862, 2864, 2866, 2868, 2880, 2882, 2884, 2886, 2888]\n"
          ]
        }
      ]
    },
    {
      "cell_type": "markdown",
      "source": [],
      "metadata": {
        "id": "XF5AZZ_yNQqU"
      }
    },
    {
      "cell_type": "markdown",
      "source": [],
      "metadata": {
        "id": "T9Xk_rGGt_xA"
      }
    }
  ]
}